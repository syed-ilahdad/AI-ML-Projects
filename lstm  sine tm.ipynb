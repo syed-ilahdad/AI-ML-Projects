{
 "cells": [
  {
   "cell_type": "code",
   "execution_count": 1,
   "id": "ef29cdc2",
   "metadata": {},
   "outputs": [],
   "source": [
    "import numpy as np\n",
    "import matplotlib.pyplot as plt\n",
    "from sklearn.metrics import mean_squared_error,mean_absolute_error,r2_score\n",
    "from tensorflow.keras.models import Sequential\n",
    "from tensorflow.keras.layers import LSTM,Dense"
   ]
  },
  {
   "cell_type": "code",
   "execution_count": 2,
   "id": "31c93e53",
   "metadata": {},
   "outputs": [],
   "source": [
    "x = np.arange(0,100,0.1)\n",
    "y = np.sin(x)"
   ]
  },
  {
   "cell_type": "code",
   "execution_count": 3,
   "id": "0a276d31",
   "metadata": {},
   "outputs": [
    {
     "data": {
      "text/plain": [
       "array([ 0.00000000e+00,  9.98334166e-02,  1.98669331e-01,  2.95520207e-01,\n",
       "        3.89418342e-01,  4.79425539e-01,  5.64642473e-01,  6.44217687e-01,\n",
       "        7.17356091e-01,  7.83326910e-01,  8.41470985e-01,  8.91207360e-01,\n",
       "        9.32039086e-01,  9.63558185e-01,  9.85449730e-01,  9.97494987e-01,\n",
       "        9.99573603e-01,  9.91664810e-01,  9.73847631e-01,  9.46300088e-01,\n",
       "        9.09297427e-01,  8.63209367e-01,  8.08496404e-01,  7.45705212e-01,\n",
       "        6.75463181e-01,  5.98472144e-01,  5.15501372e-01,  4.27379880e-01,\n",
       "        3.34988150e-01,  2.39249329e-01,  1.41120008e-01,  4.15806624e-02,\n",
       "       -5.83741434e-02, -1.57745694e-01, -2.55541102e-01, -3.50783228e-01,\n",
       "       -4.42520443e-01, -5.29836141e-01, -6.11857891e-01, -6.87766159e-01,\n",
       "       -7.56802495e-01, -8.18277111e-01, -8.71575772e-01, -9.16165937e-01,\n",
       "       -9.51602074e-01, -9.77530118e-01, -9.93691004e-01, -9.99923258e-01,\n",
       "       -9.96164609e-01, -9.82452613e-01, -9.58924275e-01, -9.25814682e-01,\n",
       "       -8.83454656e-01, -8.32267442e-01, -7.72764488e-01, -7.05540326e-01,\n",
       "       -6.31266638e-01, -5.50685543e-01, -4.64602179e-01, -3.73876665e-01,\n",
       "       -2.79415498e-01, -1.82162504e-01, -8.30894028e-02,  1.68139005e-02,\n",
       "        1.16549205e-01,  2.15119988e-01,  3.11541364e-01,  4.04849921e-01,\n",
       "        4.94113351e-01,  5.78439764e-01,  6.56986599e-01,  7.28969040e-01,\n",
       "        7.93667864e-01,  8.50436621e-01,  8.98708096e-01,  9.37999977e-01,\n",
       "        9.67919672e-01,  9.88168234e-01,  9.98543345e-01,  9.98941342e-01,\n",
       "        9.89358247e-01,  9.69889811e-01,  9.40730557e-01,  9.02171834e-01,\n",
       "        8.54598908e-01,  7.98487113e-01,  7.34397098e-01,  6.62969230e-01,\n",
       "        5.84917193e-01,  5.01020856e-01,  4.12118485e-01,  3.19098362e-01,\n",
       "        2.22889914e-01,  1.24454424e-01,  2.47754255e-02, -7.51511205e-02,\n",
       "       -1.74326781e-01, -2.71760626e-01, -3.66479129e-01, -4.57535894e-01,\n",
       "       -5.44021111e-01, -6.25070649e-01, -6.99874688e-01, -7.67685810e-01,\n",
       "       -8.27826469e-01, -8.79695760e-01, -9.22775422e-01, -9.56635016e-01,\n",
       "       -9.80936230e-01, -9.95436253e-01, -9.99990207e-01, -9.94552588e-01,\n",
       "       -9.79177729e-01, -9.54019250e-01, -9.19328526e-01, -8.75452175e-01,\n",
       "       -8.22828595e-01, -7.61983584e-01, -6.93525085e-01, -6.18137112e-01,\n",
       "       -5.36572918e-01, -4.49647465e-01, -3.58229282e-01, -2.63231791e-01,\n",
       "       -1.65604175e-01, -6.63218974e-02,  3.36230472e-02,  1.33232041e-01,\n",
       "        2.31509825e-01,  3.27474439e-01,  4.20167037e-01,  5.08661464e-01,\n",
       "        5.92073515e-01,  6.69569762e-01,  7.40375890e-01,  8.03784427e-01,\n",
       "        8.59161815e-01,  9.05954742e-01,  9.43695669e-01,  9.72007501e-01,\n",
       "        9.90607356e-01,  9.99309389e-01,  9.98026653e-01,  9.86771964e-01,\n",
       "        9.65657777e-01,  9.34895056e-01,  8.94791172e-01,  8.45746831e-01,\n",
       "        7.88252067e-01,  7.22881350e-01,  6.50287840e-01,  5.71196870e-01,\n",
       "        4.86398689e-01,  3.96740573e-01,  3.03118357e-01,  2.06467482e-01,\n",
       "        1.07753652e-01,  7.96318379e-03, -9.19068502e-02, -1.90858581e-01,\n",
       "       -2.87903317e-01, -3.82071417e-01, -4.72421986e-01, -5.58052271e-01,\n",
       "       -6.38106682e-01, -7.11785342e-01, -7.78352079e-01, -8.37141778e-01,\n",
       "       -8.87567034e-01, -9.29124013e-01, -9.61397492e-01, -9.84065005e-01,\n",
       "       -9.96900066e-01, -9.99774431e-01, -9.92659380e-01, -9.75626005e-01,\n",
       "       -9.48844498e-01, -9.12582450e-01, -8.67202179e-01, -8.13157112e-01,\n",
       "       -7.50987247e-01, -6.81313766e-01, -6.04832822e-01, -5.22308590e-01,\n",
       "       -4.34565622e-01, -3.42480618e-01, -2.46973662e-01, -1.48999026e-01,\n",
       "       -4.95356409e-02,  5.04226878e-02,  1.49877210e-01,  2.47834208e-01,\n",
       "        3.43314929e-01,  4.35365360e-01,  5.23065765e-01,  6.05539870e-01,\n",
       "        6.81963620e-01,  7.51573415e-01,  8.13673738e-01,  8.67644101e-01,\n",
       "        9.12945251e-01,  9.49124554e-01,  9.75820518e-01,  9.92766406e-01,\n",
       "        9.99792900e-01,  9.96829794e-01,  9.83906695e-01,  9.61152725e-01,\n",
       "        9.28795234e-01,  8.87157529e-01,  8.36655639e-01,  7.77794162e-01,\n",
       "        7.11161223e-01,  6.37422596e-01,  5.57315054e-01,  4.71639003e-01,\n",
       "        3.81250492e-01,  2.87052651e-01,  1.89986676e-01,  9.10224162e-02,\n",
       "       -8.85130929e-03, -1.08636595e-01, -2.07336421e-01, -3.03964609e-01,\n",
       "       -3.97555683e-01, -4.87174512e-01, -5.71925655e-01, -6.50962306e-01,\n",
       "       -7.23494756e-01, -7.88798286e-01, -8.46220404e-01, -8.95187368e-01,\n",
       "       -9.35209915e-01, -9.65888154e-01, -9.86915558e-01, -9.98082028e-01,\n",
       "       -9.99275992e-01, -9.90485521e-01, -9.71798446e-01, -9.43401482e-01,\n",
       "       -9.05578362e-01, -8.58707003e-01, -8.03255727e-01, -7.39778585e-01,\n",
       "       -6.68909820e-01, -5.91357530e-01, -5.07896590e-01, -4.19360916e-01,\n",
       "       -3.26635126e-01, -2.30645706e-01, -1.32351750e-01, -3.27353793e-02,\n",
       "        6.72080725e-02,  1.66480004e-01,  2.64088521e-01,  3.59058354e-01,\n",
       "        4.50440594e-01,  5.37322181e-01,  6.18835022e-01,  6.94164668e-01,\n",
       "        7.62558450e-01,  8.23333001e-01,  8.75881080e-01,  9.19677645e-01,\n",
       "        9.54285094e-01,  9.79357643e-01,  9.94644774e-01,  9.99993743e-01,\n",
       "        9.95351105e-01,  9.80763248e-01,  9.56375928e-01,  9.22432817e-01,\n",
       "        8.79273062e-01,  8.27327901e-01,  7.67116353e-01,  6.99240032e-01,\n",
       "        6.24377135e-01,  5.43275669e-01,  4.56745972e-01,  3.65652620e-01,\n",
       "        2.70905788e-01,  1.73452155e-01,  7.42654456e-02, -2.56632999e-02,\n",
       "       -1.25335626e-01, -2.23755640e-01, -3.19939962e-01, -4.12927549e-01,\n",
       "       -5.01789301e-01, -5.85637340e-01, -6.63633884e-01, -7.34999618e-01,\n",
       "       -7.99021479e-01, -8.55059781e-01, -9.02554608e-01, -9.41031408e-01,\n",
       "       -9.70105734e-01, -9.89487083e-01, -9.98981805e-01, -9.98495031e-01,\n",
       "       -9.88031624e-01, -9.67696132e-01, -9.37691740e-01, -8.98318243e-01,\n",
       "       -8.49969046e-01, -7.93127239e-01, -7.28360768e-01, -6.56316756e-01,\n",
       "       -5.77715044e-01, -4.93340995e-01, -4.04037645e-01, -3.10697285e-01,\n",
       "       -2.14252540e-01, -1.15667055e-01, -1.59258626e-02,  8.39744557e-02,\n",
       "        1.83035729e-01,  2.80268170e-01,  3.74700264e-01,  4.65388476e-01,\n",
       "        5.51426681e-01,  6.31955213e-01,  7.06169457e-01,  7.73327890e-01,\n",
       "        8.32759485e-01,  8.83870424e-01,  9.26150021e-01,  9.59175833e-01,\n",
       "        9.82617877e-01,  9.96241929e-01,  9.99911860e-01,  9.93591003e-01,\n",
       "        9.77342512e-01,  9.51328739e-01,  9.15809603e-01,  8.71140000e-01,\n",
       "        8.17766255e-01,  7.56221659e-01,  6.87121146e-01,  6.11155146e-01,\n",
       "        5.29082686e-01,  4.41723807e-01,  3.49951369e-01,  2.54682333e-01,\n",
       "        1.56868595e-01,  5.74874781e-02, -4.24680347e-02, -1.41999221e-01,\n",
       "       -2.40111598e-01, -3.35824859e-01, -4.28182669e-01, -5.16262220e-01,\n",
       "       -5.99183449e-01, -6.76117835e-01, -7.46296676e-01, -8.09018766e-01,\n",
       "       -8.63657409e-01, -9.09666672e-01, -9.46586846e-01, -9.74049038e-01,\n",
       "       -9.91778853e-01, -9.99599143e-01, -9.97431767e-01, -9.85298384e-01,\n",
       "       -9.63320224e-01, -9.31716888e-01, -8.90804144e-01, -8.40990780e-01,\n",
       "       -7.82774514e-01, -7.16737023e-01, -6.43538133e-01, -5.63909223e-01,\n",
       "       -4.78645919e-01, -3.88600142e-01, -2.94671602e-01, -1.97798800e-01,\n",
       "       -9.89496576e-02,  8.88156806e-04,  1.00717097e-01,  1.99539705e-01,\n",
       "        2.96368579e-01,  3.90236235e-01,  4.80204780e-01,  5.65375278e-01,\n",
       "        6.44896733e-01,  7.17974593e-01,  7.83878688e-01,  8.41950526e-01,\n",
       "        8.91609873e-01,  9.32360549e-01,  9.63795386e-01,  9.85600299e-01,\n",
       "        9.97557419e-01,  9.99547275e-01,  9.91549985e-01,  9.73645456e-01,\n",
       "        9.46012583e-01,  9.08927465e-01,  8.62760644e-01,  8.07973404e-01,\n",
       "        7.45113160e-01,  6.74807993e-01,  5.97760367e-01,  5.14740117e-01,\n",
       "        4.26576754e-01,  3.34151177e-01,  2.38386872e-01,  1.40240684e-01,\n",
       "        4.06932573e-02, -5.92607627e-02, -1.58622669e-01, -2.56399670e-01,\n",
       "       -3.51614810e-01, -4.43316731e-01, -5.30589178e-01, -6.12560153e-01,\n",
       "       -6.88410630e-01, -7.57382735e-01, -8.18787322e-01, -8.72010857e-01,\n",
       "       -9.16521548e-01, -9.51874658e-01, -9.77716952e-01, -9.93790221e-01,\n",
       "       -9.99933866e-01, -9.96086503e-01, -9.82286573e-01, -9.58671960e-01,\n",
       "       -9.25478614e-01, -8.83038191e-01, -8.31774743e-01, -7.72200476e-01,\n",
       "       -7.04910637e-01, -6.30577565e-01, -5.49943970e-01, -4.63815516e-01,\n",
       "       -3.73052771e-01, -2.78562606e-01, -1.81289136e-01, -8.22042844e-02,\n",
       "        1.77019251e-02,  1.17431263e-01,  2.15987266e-01,  3.12385196e-01,\n",
       "        4.05661877e-01,  4.94885318e-01,  5.79164028e-01,  6.57655923e-01,\n",
       "        7.29576737e-01,  7.94207862e-01,  8.50903525e-01,  8.99097240e-01,\n",
       "        9.38307473e-01,  9.68142448e-01,  9.88304064e-01,  9.98590872e-01,\n",
       "        9.98900091e-01,  9.89228630e-01,  9.69673123e-01,  9.40428963e-01,\n",
       "        9.01788348e-01,  8.54137361e-01,  7.97952117e-01,  7.33793998e-01,\n",
       "        6.62304053e-01,  5.84196584e-01,  5.00252017e-01,  4.11309096e-01,\n",
       "        3.18256511e-01,  2.22024012e-01,  1.23573123e-01,  2.38875315e-02,\n",
       "       -7.60367361e-02, -1.75201270e-01, -2.72615250e-01, -3.67305349e-01,\n",
       "       -4.58325454e-01, -5.44766123e-01, -6.25763669e-01, -7.00508791e-01,\n",
       "       -7.68254661e-01, -8.28324385e-01, -8.80117764e-01, -9.23117298e-01,\n",
       "       -9.56893350e-01, -9.81108439e-01, -9.95520616e-01, -9.99985881e-01,\n",
       "       -9.94459618e-01, -9.78997043e-01, -9.53752653e-01, -9.18978681e-01,\n",
       "       -8.75022579e-01, -8.22323540e-01, -7.61408116e-01, -6.92884954e-01,\n",
       "       -6.17438715e-01, -5.35823232e-01, -4.48853980e-01, -3.57399928e-01,\n",
       "       -2.62374854e-01, -1.64728217e-01, -6.54356699e-02,  3.45106886e-02,\n",
       "        1.34112228e-01,  2.32373762e-01,  3.28313494e-01,  4.20972826e-01,\n",
       "        5.09425937e-01,  5.92789033e-01,  6.70229176e-01,  7.40972611e-01,\n",
       "        8.04312492e-01,  8.59615949e-01,  9.06330408e-01,  9.43989113e-01,\n",
       "        9.72215790e-01,  9.90728409e-01,  9.99341997e-01,  9.97970490e-01,\n",
       "        9.86627592e-01,  9.65426637e-01,  9.34579458e-01,  8.94394271e-01,\n",
       "        8.45272591e-01,  7.87705227e-01,  7.22267373e-01,  6.49612862e-01,\n",
       "        5.70467634e-01,  4.85622482e-01,  3.95925150e-01,  3.02271866e-01,\n",
       "        2.05598380e-01,  1.06870624e-01,  7.07505200e-03, -9.27912118e-02,\n",
       "       -1.91730336e-01, -2.88753755e-01, -3.82892041e-01, -4.73204597e-01,\n",
       "       -5.58789049e-01, -6.38790265e-01, -7.12408900e-01, -7.78909381e-01,\n",
       "       -8.37627257e-01, -8.87975838e-01, -9.29452058e-01, -9.61641501e-01,\n",
       "       -9.84222539e-01, -9.96969551e-01, -9.99755173e-01, -9.92551572e-01,\n",
       "       -9.75430724e-01, -9.48563694e-01, -9.12218929e-01, -8.66759574e-01,\n",
       "       -8.12639844e-01, -7.50400486e-01, -6.80663374e-01, -6.04125298e-01,\n",
       "       -5.21551002e-01, -4.33765541e-01, -3.41646038e-01, -2.46112921e-01,\n",
       "       -1.48120724e-01, -4.86485549e-02,  5.13096950e-02,  1.50755275e-01,\n",
       "        2.48694559e-01,  3.44148968e-01,  4.36164755e-01,  5.23822528e-01,\n",
       "        6.06246439e-01,  6.82612937e-01,  7.52158991e-01,  8.14189722e-01,\n",
       "        8.68085337e-01,  9.13307332e-01,  9.49403861e-01,  9.76014260e-01,\n",
       "        9.92872648e-01,  9.99810581e-01,  9.96758736e-01,  9.83747608e-01,\n",
       "        9.60907199e-01,  9.28465723e-01,  8.86747324e-01,  8.36168839e-01,\n",
       "        7.77235632e-01,  7.10536542e-01,  6.36738007e-01,  5.56577396e-01,\n",
       "        4.70855648e-01,  3.80429265e-01,  2.86201760e-01,  1.89114620e-01,\n",
       "        9.01379104e-02, -9.73942781e-03, -1.09519453e-01, -2.08205196e-01,\n",
       "       -3.04810621e-01, -3.98370480e-01, -4.87949952e-01, -5.72653989e-01,\n",
       "       -6.51636258e-01, -7.24107592e-01, -7.89343882e-01, -8.46693310e-01,\n",
       "       -8.95582857e-01, -9.35524037e-01, -9.66117770e-01, -9.87058373e-01,\n",
       "       -9.98136616e-01, -9.99241807e-01, -9.90362905e-01, -9.71588624e-01,\n",
       "       -9.43106550e-01, -9.05201267e-01, -8.58251513e-01, -8.02726393e-01,\n",
       "       -7.39180697e-01, -6.68249351e-01, -5.90641079e-01, -5.07131316e-01,\n",
       "       -4.18554465e-01, -3.25795555e-01, -2.29781405e-01, -1.31471354e-01,\n",
       "       -3.18476856e-02,  6.80941947e-02,  1.67355700e-01,  2.64945043e-01,\n",
       "        3.59887143e-01,  4.51233369e-01,  5.38071020e-01,  6.19532444e-01,\n",
       "        6.94803704e-01,  7.63132716e-01,  8.23836757e-01,  8.76309294e-01,\n",
       "        9.20026038e-01,  9.54550186e-01,  9.79536785e-01,  9.94736175e-01,\n",
       "        9.99996490e-01,  9.95265171e-01,  9.80589492e-01,  9.56116086e-01,\n",
       "        9.22089485e-01,  8.78849670e-01,  8.26828679e-01,  7.66546290e-01,\n",
       "        6.98604824e-01,  6.23683129e-01,  5.42529799e-01,  4.55955690e-01,\n",
       "        3.64825823e-01,  2.70050737e-01,  1.72577392e-01,  7.33797121e-02,\n",
       "       -2.65511540e-02, -1.26216730e-01, -2.24621190e-01, -3.20781309e-01,\n",
       "       -4.13736288e-01, -5.02557350e-01, -5.86357025e-01, -6.64298015e-01,\n",
       "       -7.35601558e-01, -7.99555214e-01, -8.55519979e-01, -9.02936671e-01,\n",
       "       -9.41331518e-01, -9.70320891e-01, -9.89615139e-01, -9.99021480e-01,\n",
       "       -9.98445928e-01, -9.87894235e-01, -9.67471829e-01, -9.37382764e-01,\n",
       "       -8.97927681e-01, -8.49500801e-01, -7.92585989e-01, -7.27751921e-01,\n",
       "       -6.55646396e-01, -5.76989869e-01, -4.92568250e-01, -4.03225051e-01,\n",
       "       -3.09852962e-01, -2.13384923e-01, -1.14784814e-01, -1.50378122e-02,\n",
       "        8.48594423e-02,  1.83908809e-01,  2.81120620e-01,  3.75523567e-01,\n",
       "        4.66174406e-01,  5.52167385e-01,  6.32643290e-01,  7.06798032e-01,\n",
       "        7.73890682e-01,  8.33250871e-01,  8.84285494e-01,  9.26484628e-01,\n",
       "        9.59426635e-01,  9.82782367e-01,  9.96318463e-01,  9.99899674e-01,\n",
       "        9.93490218e-01,  9.77154136e-01,  9.51054653e-01,  9.15452547e-01,\n",
       "        8.70703541e-01,  8.17254753e-01,  7.55640226e-01,  6.86475591e-01,\n",
       "        6.10451919e-01,  5.28328814e-01,  4.40926822e-01,  3.49119234e-01,\n",
       "        2.53823363e-01,  1.55991372e-01,  5.66007674e-02, -4.33553735e-02,\n",
       "       -1.42878322e-01, -2.40973677e-01, -3.36661303e-01, -4.28985121e-01,\n",
       "       -5.17022661e-01, -5.99894282e-01, -6.76771957e-01, -7.46887550e-01,\n",
       "       -8.09540490e-01, -8.64104769e-01, -9.10035199e-01, -9.46872858e-01,\n",
       "       -9.74249677e-01, -9.91892114e-01, -9.99623894e-01, -9.97367762e-01,\n",
       "       -9.85146260e-01, -9.63081504e-01, -9.31393955e-01, -8.90400225e-01,\n",
       "       -8.40509911e-01, -7.82221500e-01, -7.16117390e-01, -6.42858072e-01,\n",
       "       -5.63175528e-01, -4.77865921e-01, -3.87781635e-01, -2.93822764e-01,\n",
       "       -1.96928112e-01, -9.80658204e-02,  1.77631291e-03,  1.01600698e-01,\n",
       "        2.00409922e-01,  2.97216717e-01,  3.91053820e-01,  4.80983643e-01,\n",
       "        5.66107637e-01,  6.45575270e-01,  7.18592528e-01,  7.84429848e-01,\n",
       "        8.42429403e-01,  8.92011683e-01,  9.32681276e-01,  9.64031827e-01,\n",
       "        9.85750090e-01,  9.97619064e-01,  9.99520159e-01,  9.91434378e-01,\n",
       "        9.73442512e-01,  9.45724331e-01,  9.08556785e-01,  8.62311240e-01,\n",
       "        8.07449766e-01,  7.44520521e-01,  6.74152273e-01,  5.97048118e-01,\n",
       "        5.13978456e-01,  4.25773291e-01,  3.33313940e-01,  2.37524226e-01,\n",
       "        1.39361249e-01,  3.98058202e-02, -6.01473352e-02, -1.59499518e-01,\n",
       "       -2.57258035e-01, -3.52446114e-01, -4.44112669e-01, -5.31341796e-01,\n",
       "       -6.13261932e-01, -6.89054557e-01, -7.57962377e-01, -8.19296887e-01,\n",
       "       -8.72445254e-01, -9.16876436e-01, -9.52146492e-01, -9.77903015e-01,\n",
       "       -9.93888654e-01, -9.99943686e-01, -9.96007612e-01, -9.82119758e-01,\n",
       "       -9.58418889e-01, -9.25141815e-01, -8.82621030e-01, -8.31281387e-01,\n",
       "       -7.71635855e-01, -7.04280393e-01, -6.29887994e-01, -5.49201963e-01,\n",
       "       -4.63028487e-01, -3.72228583e-01, -2.77709495e-01, -1.80415624e-01,\n",
       "       -8.13191011e-02,  1.85899358e-02,  1.18313228e-01,  2.16854374e-01,\n",
       "        3.13228782e-01,  4.06473512e-01,  4.95656894e-01,  5.79887835e-01,\n",
       "        6.58324729e-01,  7.30183859e-01,  7.94747234e-01,  8.51369757e-01,\n",
       "        8.99485675e-01,  9.38614230e-01,  9.68364461e-01,  9.88439115e-01,\n",
       "        9.98637612e-01,  9.98858052e-01,  9.89098232e-01,  9.69455670e-01,\n",
       "        9.40126627e-01,  9.01404150e-01,  8.53675141e-01,  7.97416491e-01,\n",
       "        7.33190320e-01,  6.61638353e-01,  5.83475515e-01,  4.99482782e-01,\n",
       "        4.10499383e-01,  3.17414409e-01,  2.21157935e-01,  1.22691725e-01,\n",
       "        2.29996187e-02, -7.69222917e-02, -1.76075620e-01, -2.73469659e-01,\n",
       "       -3.68131279e-01, -4.59114654e-01, -5.45510706e-01, -6.26456196e-01,\n",
       "       -7.01142343e-01, -7.68822907e-01, -8.28821647e-01, -8.80539075e-01,\n",
       "       -9.23458447e-01, -9.57150928e-01, -9.81279873e-01, -9.95604194e-01,\n",
       "       -9.99980767e-01, -9.94365863e-01, -9.78815584e-01, -9.53485303e-01,\n",
       "       -9.18628112e-01, -8.74592293e-01, -8.21817837e-01, -7.60832048e-01,\n",
       "       -6.92244277e-01, -6.16739830e-01, -5.35073123e-01, -4.48060142e-01,\n",
       "       -3.56570292e-01, -2.61517709e-01, -1.63852128e-01, -6.45493908e-02,\n",
       "        3.53983027e-02,  1.34992308e-01,  2.33237515e-01,  3.29152290e-01,\n",
       "        4.21778283e-01,  5.10190008e-01,  5.93504083e-01,  6.70888061e-01,\n",
       "        7.41568747e-01,  8.04839924e-01,  8.60069406e-01,  9.06705359e-01,\n",
       "        9.44281811e-01,  9.72423312e-01,  9.90848681e-01,  9.99373817e-01,\n",
       "        9.97913540e-01,  9.86482442e-01,  9.65194736e-01,  9.34263124e-01,\n",
       "        8.93996664e-01,  8.44797684e-01,  7.87157765e-01,  7.21652826e-01,\n",
       "        6.48937371e-01,  5.69737948e-01,  4.84845891e-01,  3.95109415e-01,\n",
       "        3.01425136e-01,  2.04729117e-01,  1.05987512e-01,  6.18691463e-03,\n",
       "       -9.36755001e-02, -1.92601940e-01, -2.89603965e-01, -3.83712363e-01,\n",
       "       -4.73986834e-01, -5.59525386e-01, -6.39473344e-01, -7.13031896e-01,\n",
       "       -7.79466070e-01, -8.38112076e-01, -8.88383943e-01, -9.29779371e-01,\n",
       "       -9.61884751e-01, -9.84379297e-01, -9.97038250e-01, -9.99735127e-01,\n",
       "       -9.92442981e-01, -9.75234672e-01, -9.48282141e-01, -9.11854689e-01,\n",
       "       -8.66316285e-01, -8.12121936e-01, -7.49813133e-01, -6.80012445e-01,\n",
       "       -6.03417297e-01, -5.20793003e-01, -4.32965118e-01, -3.40811188e-01,\n",
       "       -2.45251985e-01, -1.47242306e-01, -4.77614305e-02,  5.21966616e-02,\n",
       "        1.51633222e-01,  2.49554713e-01,  3.44982736e-01,  4.36963806e-01,\n",
       "        5.24578878e-01,  6.06952531e-01,  6.83261715e-01,  7.52743973e-01,\n",
       "        8.14705063e-01,  8.68525889e-01,  9.13668692e-01,  9.49682419e-01,\n",
       "        9.76207233e-01,  9.92978107e-01,  9.99827472e-01,  9.96686892e-01,\n",
       "        9.83587745e-01,  9.60660915e-01,  9.28135479e-01,  8.86336420e-01,\n",
       "        8.35681380e-01,  7.76676488e-01,  7.09911302e-01,  6.36052916e-01,\n",
       "        5.55839300e-01,  4.70071921e-01,  3.79607739e-01,  2.85350642e-01,\n",
       "        1.88242416e-01,  8.92533334e-02, -1.06275387e-02, -1.10402224e-01,\n",
       "       -2.09073807e-01, -3.05656393e-01, -3.99184962e-01, -4.88725006e-01,\n",
       "       -5.73381872e-01, -6.52309696e-01, -7.24719856e-01, -7.89888856e-01,\n",
       "       -8.47165547e-01, -8.95977640e-01, -9.35837421e-01, -9.66346624e-01,\n",
       "       -9.87200410e-01, -9.98190417e-01, -9.99206834e-01, -9.90239507e-01,\n",
       "       -9.71378035e-01, -9.42810874e-01, -9.04823459e-01, -8.57795346e-01,\n",
       "       -8.02196427e-01, -7.38582225e-01, -6.67588354e-01, -5.89924161e-01])"
      ]
     },
     "execution_count": 3,
     "metadata": {},
     "output_type": "execute_result"
    }
   ],
   "source": [
    "y"
   ]
  },
  {
   "cell_type": "markdown",
   "id": "36aea8e5",
   "metadata": {},
   "source": [
    "Prepare Dataset"
   ]
  },
  {
   "cell_type": "code",
   "execution_count": 4,
   "id": "638f0a04",
   "metadata": {},
   "outputs": [],
   "source": [
    "def create_dataset(series,time_steps = 20):\n",
    "    X,y = [],[]\n",
    "    for i in range(len(series) - time_steps):\n",
    "        X.append(series[i:i+time_steps])\n",
    "        y.append(series[i+time_steps])\n",
    "    return np.array(X),np.array(y)\n",
    "time_steps = 20\n",
    "X,y_data = create_dataset(y,time_steps)\n",
    "X=X.reshape(X.shape[0],X.shape[1],1)"
   ]
  },
  {
   "cell_type": "code",
   "execution_count": 5,
   "id": "7fd6fa1f",
   "metadata": {},
   "outputs": [],
   "source": [
    "split = int(len(X)*0.8)"
   ]
  },
  {
   "cell_type": "code",
   "execution_count": 6,
   "id": "fbd165b4",
   "metadata": {},
   "outputs": [
    {
     "data": {
      "text/plain": [
       "784"
      ]
     },
     "execution_count": 6,
     "metadata": {},
     "output_type": "execute_result"
    }
   ],
   "source": [
    "split"
   ]
  },
  {
   "cell_type": "code",
   "execution_count": 7,
   "id": "499c9f29",
   "metadata": {},
   "outputs": [],
   "source": [
    "X_train,X_test = X[:split],X[split:]\n",
    "y_train,y_test = y_data[:split],y_data[split:]"
   ]
  },
  {
   "cell_type": "markdown",
   "id": "f83a55f4",
   "metadata": {},
   "source": [
    "LSTM Model"
   ]
  },
  {
   "cell_type": "code",
   "execution_count": 8,
   "id": "c892de64",
   "metadata": {},
   "outputs": [
    {
     "name": "stderr",
     "output_type": "stream",
     "text": [
      "C:\\Users\\InterbestPC-03\\AppData\\Local\\Programs\\Python\\Python312\\Lib\\site-packages\\keras\\src\\layers\\rnn\\rnn.py:200: UserWarning: Do not pass an `input_shape`/`input_dim` argument to a layer. When using Sequential models, prefer using an `Input(shape)` object as the first layer in the model instead.\n",
      "  super().__init__(**kwargs)\n"
     ]
    }
   ],
   "source": [
    "model = Sequential()\n",
    "model.add(LSTM(50,activation = 'tanh',input_shape=(time_steps,1)))\n",
    "model.add(Dense(1))\n",
    "model.compile(optimizer='adam',loss = 'mse')"
   ]
  },
  {
   "cell_type": "code",
   "execution_count": 9,
   "id": "97a2b6de",
   "metadata": {},
   "outputs": [
    {
     "name": "stdout",
     "output_type": "stream",
     "text": [
      "Epoch 1/10\n",
      "\u001b[1m25/25\u001b[0m \u001b[32m━━━━━━━━━━━━━━━━━━━━\u001b[0m\u001b[37m\u001b[0m \u001b[1m1s\u001b[0m 2ms/step - loss: 0.3196   \n",
      "Epoch 2/10\n",
      "\u001b[1m25/25\u001b[0m \u001b[32m━━━━━━━━━━━━━━━━━━━━\u001b[0m\u001b[37m\u001b[0m \u001b[1m0s\u001b[0m 2ms/step - loss: 0.0698 \n",
      "Epoch 3/10\n",
      "\u001b[1m25/25\u001b[0m \u001b[32m━━━━━━━━━━━━━━━━━━━━\u001b[0m\u001b[37m\u001b[0m \u001b[1m0s\u001b[0m 2ms/step - loss: 0.0045 \n",
      "Epoch 4/10\n",
      "\u001b[1m25/25\u001b[0m \u001b[32m━━━━━━━━━━━━━━━━━━━━\u001b[0m\u001b[37m\u001b[0m \u001b[1m0s\u001b[0m 2ms/step - loss: 7.5354e-04\n",
      "Epoch 5/10\n",
      "\u001b[1m25/25\u001b[0m \u001b[32m━━━━━━━━━━━━━━━━━━━━\u001b[0m\u001b[37m\u001b[0m \u001b[1m0s\u001b[0m 2ms/step - loss: 4.6661e-04 \n",
      "Epoch 6/10\n",
      "\u001b[1m25/25\u001b[0m \u001b[32m━━━━━━━━━━━━━━━━━━━━\u001b[0m\u001b[37m\u001b[0m \u001b[1m0s\u001b[0m 3ms/step - loss: 3.1605e-04\n",
      "Epoch 7/10\n",
      "\u001b[1m25/25\u001b[0m \u001b[32m━━━━━━━━━━━━━━━━━━━━\u001b[0m\u001b[37m\u001b[0m \u001b[1m0s\u001b[0m 2ms/step - loss: 2.4328e-04 \n",
      "Epoch 8/10\n",
      "\u001b[1m25/25\u001b[0m \u001b[32m━━━━━━━━━━━━━━━━━━━━\u001b[0m\u001b[37m\u001b[0m \u001b[1m0s\u001b[0m 2ms/step - loss: 1.7713e-04 \n",
      "Epoch 9/10\n",
      "\u001b[1m25/25\u001b[0m \u001b[32m━━━━━━━━━━━━━━━━━━━━\u001b[0m\u001b[37m\u001b[0m \u001b[1m0s\u001b[0m 2ms/step - loss: 1.2373e-04 \n",
      "Epoch 10/10\n",
      "\u001b[1m25/25\u001b[0m \u001b[32m━━━━━━━━━━━━━━━━━━━━\u001b[0m\u001b[37m\u001b[0m \u001b[1m0s\u001b[0m 2ms/step - loss: 8.0694e-05 \n"
     ]
    },
    {
     "data": {
      "text/plain": [
       "<keras.src.callbacks.history.History at 0x20d0eb88d70>"
      ]
     },
     "execution_count": 9,
     "metadata": {},
     "output_type": "execute_result"
    }
   ],
   "source": [
    "model.fit(X_train,y_train,epochs = 10,verbose = 1)"
   ]
  },
  {
   "cell_type": "code",
   "execution_count": 10,
   "id": "f60929b7",
   "metadata": {},
   "outputs": [
    {
     "name": "stdout",
     "output_type": "stream",
     "text": [
      "\u001b[1m7/7\u001b[0m \u001b[32m━━━━━━━━━━━━━━━━━━━━\u001b[0m\u001b[37m\u001b[0m \u001b[1m0s\u001b[0m 14ms/step\n"
     ]
    }
   ],
   "source": [
    "y_pred = model.predict(X_test)"
   ]
  },
  {
   "cell_type": "code",
   "execution_count": 11,
   "id": "bc50d3b6",
   "metadata": {},
   "outputs": [],
   "source": [
    "#y_pred"
   ]
  },
  {
   "cell_type": "code",
   "execution_count": 12,
   "id": "b92bab61",
   "metadata": {},
   "outputs": [],
   "source": [
    "mse = mean_squared_error(y_test,y_pred)"
   ]
  },
  {
   "cell_type": "code",
   "execution_count": 13,
   "id": "f93f6695",
   "metadata": {},
   "outputs": [
    {
     "data": {
      "text/plain": [
       "5.7584635262917604e-05"
      ]
     },
     "execution_count": 13,
     "metadata": {},
     "output_type": "execute_result"
    }
   ],
   "source": [
    "mse"
   ]
  },
  {
   "cell_type": "code",
   "execution_count": 14,
   "id": "98c237f3",
   "metadata": {},
   "outputs": [
    {
     "data": {
      "text/plain": [
       "np.float64(0.007588454075957606)"
      ]
     },
     "execution_count": 14,
     "metadata": {},
     "output_type": "execute_result"
    }
   ],
   "source": [
    "rmse = np.sqrt(mse)\n",
    "rmse"
   ]
  },
  {
   "cell_type": "code",
   "execution_count": 15,
   "id": "b0d8db70",
   "metadata": {},
   "outputs": [],
   "source": [
    "r2 = r2_score(y_test,y_pred)"
   ]
  },
  {
   "cell_type": "code",
   "execution_count": 16,
   "id": "cbd49470",
   "metadata": {},
   "outputs": [
    {
     "data": {
      "text/plain": [
       "0.9998859491242266"
      ]
     },
     "execution_count": 16,
     "metadata": {},
     "output_type": "execute_result"
    }
   ],
   "source": [
    "r2"
   ]
  },
  {
   "cell_type": "code",
   "execution_count": null,
   "id": "c77244ea",
   "metadata": {},
   "outputs": [],
   "source": []
  },
  {
   "cell_type": "code",
   "execution_count": null,
   "id": "73318252",
   "metadata": {},
   "outputs": [],
   "source": []
  },
  {
   "cell_type": "code",
   "execution_count": 17,
   "id": "955269c8",
   "metadata": {},
   "outputs": [
    {
     "data": {
      "text/plain": [
       "<function matplotlib.pyplot.show(close=None, block=None)>"
      ]
     },
     "execution_count": 17,
     "metadata": {},
     "output_type": "execute_result"
    },
    {
     "data": {
      "image/png": "[encoded data removed]",
      "text/plain": [
       "<Figure size 1000x500 with 1 Axes>"
      ]
     },
     "metadata": {},
     "output_type": "display_data"
    }
   ],
   "source": [
    "plt.figure(figsize=(10,5))\n",
    "plt.plot(y_test,label='Actual')\n",
    "plt.plot(y_pred,label='Predicted')\n",
    "plt.title(\"LSTM SINE WAVE PREDICTION\")\n",
    "plt.legend()\n",
    "plt.grid()\n",
    "plt.show"
   ]
  },
  {
   "cell_type": "code",
   "execution_count": null,
   "id": "70a4b05f",
   "metadata": {},
   "outputs": [],
   "source": []
  },
  {
   "cell_type": "code",
   "execution_count": null,
   "id": "801253d6",
   "metadata": {},
   "outputs": [],
   "source": []
  },
  {
   "cell_type": "code",
   "execution_count": null,
   "id": "e58e80ed",
   "metadata": {},
   "outputs": [],
   "source": []
  }
 ],
 "metadata": {
  "kernelspec": {
   "display_name": "Python 3 (ipykernel)",
   "language": "python",
   "name": "python3"
  },
  "language_info": {
   "codemirror_mode": {
    "name": "ipython",
    "version": 3
   },
   "file_extension": ".py",
   "mimetype": "text/x-python",
   "name": "python",
   "nbconvert_exporter": "python",
   "pygments_lexer": "ipython3",
   "version": "3.12.0"
  }
 },
 "nbformat": 4,
 "nbformat_minor": 5
}
